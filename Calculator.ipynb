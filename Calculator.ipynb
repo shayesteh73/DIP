{
  "nbformat": 4,
  "nbformat_minor": 0,
  "metadata": {
    "colab": {
      "provenance": [],
      "authorship_tag": "ABX9TyNeDcMUBj6kZTY6I3JeJ06y",
      "include_colab_link": true
    },
    "kernelspec": {
      "name": "python3",
      "display_name": "Python 3"
    },
    "language_info": {
      "name": "python"
    }
  },
  "cells": [
    {
      "cell_type": "markdown",
      "metadata": {
        "id": "view-in-github",
        "colab_type": "text"
      },
      "source": [
        "<a href=\"https://colab.research.google.com/github/shayesteh73/shayesteh73/blob/main/Calculator.ipynb\" target=\"_parent\"><img src=\"https://colab.research.google.com/assets/colab-badge.svg\" alt=\"Open In Colab\"/></a>"
      ]
    },
    {
      "cell_type": "code",
      "source": [
        " num1 = int(input(\"Enter the first number:\"))\n",
        " num2 = int(input(\"Enter the second number:\"))\n",
        " oper = input(\"Enter the operation:\")\n",
        "\n",
        " print(num1, num2, oper)\n",
        "\n",
        " if oper == \"+\":\n",
        "    print(num1 + num2)\n",
        " elif oper == \"*\":\n",
        "    print(num1 * num2)\n",
        " elif oper == \"/\":\n",
        "    print(num1 / num2)\n",
        " elif oper== \"-\":\n",
        "    print(num1-num2)\n",
        " else:\n",
        "    print(\"The operation entered is not valid\")"
      ],
      "metadata": {
        "colab": {
          "base_uri": "https://localhost:8080/"
        },
        "id": "M2tPPZEIrGRP",
        "outputId": "8c8dd08e-cad6-4fd3-dbcc-d6db58ff74d6"
      },
      "execution_count": 2,
      "outputs": [
        {
          "output_type": "stream",
          "name": "stdout",
          "text": [
            "Enter the first number:60\n",
            "Enter the second number:8\n",
            "Enter the operation:-\n",
            "60 8 -\n",
            "52\n"
          ]
        }
      ]
    }
  ]
}